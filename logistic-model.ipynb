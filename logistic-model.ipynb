{
 "cells": [
  {
   "cell_type": "markdown",
   "metadata": {},
   "source": [
    "# Logistic modeling of the spread of COVID-19"
   ]
  },
  {
   "cell_type": "code",
   "execution_count": 1,
   "metadata": {},
   "outputs": [],
   "source": [
    "# Import packages\n",
    "import pandas as pd\n",
    "import datetime as dt\n",
    "\n",
    "import numpy as np\n",
    "from scipy import optimize\n",
    "\n",
    "from matplotlib import pyplot as plt\n",
    "\n",
    "from tqdm import tqdm"
   ]
  },
  {
   "cell_type": "markdown",
   "metadata": {},
   "source": [
    "## Preprocessing"
   ]
  },
  {
   "cell_type": "code",
   "execution_count": 2,
   "metadata": {},
   "outputs": [],
   "source": [
    "# Load data\n",
    "# Data retrieved from https://github.com/CSSEGISandData/COVID-19\n",
    "cases = pd.read_csv('https://raw.githubusercontent.com/CSSEGISandData/COVID-19/master/csse_covid_19_data/csse_covid_19_time_series/time_series_covid19_confirmed_global.csv')\n",
    "deaths = pd.read_csv('https://raw.githubusercontent.com/CSSEGISandData/COVID-19/master/csse_covid_19_data/csse_covid_19_time_series/time_series_covid19_deaths_global.csv')\n",
    "\n",
    "# Delete province and location\n",
    "cases = cases.drop(columns=['Province/State', 'Lat', 'Long'])\n",
    "deaths = deaths.drop(columns=['Province/State', 'Lat', 'Long'])\n",
    "\n",
    "# Group by country\n",
    "cases = cases.groupby('Country/Region').sum()\n",
    "deaths = deaths.groupby('Country/Region').sum()\n",
    "\n",
    "\n",
    "#process date\n",
    "#time series is for all countries the same, therefore we just choose Germany\n",
    "date = [dt.datetime.strptime(ind, '%m/%d/%y').date() for ind in cases.loc[\"Germany\"].index]\n",
    "date_int = np.array([(d - date[0]).days for d in date])"
   ]
  },
  {
   "cell_type": "markdown",
   "metadata": {},
   "source": [
    "## Regression"
   ]
  },
  {
   "cell_type": "code",
   "execution_count": 50,
   "metadata": {
    "scrolled": false
   },
   "outputs": [],
   "source": [
    "def logistic_fit(t, a, b, c):#w, t, y):\n",
    "    return a / (1 + np.exp(-b * (t - c)))# - y\n",
    "\n",
    "\n",
    "def logistic(w, t):\n",
    "    return w[0] / (1 + np.exp(-w[1] * (t - w[2])))\n",
    "\n",
    "\n",
    "#finds a start index which has a reasonable large value\n",
    "def find_start(x):\n",
    "    m = np.max(x)\n",
    "    for i in range(len(x)):\n",
    "        if x[i] > 0.005 * m:\n",
    "            return i\n",
    "    return 0\n",
    "\n",
    "\n",
    "def analyze_country(cases, deaths, country, results, date, date_int, \n",
    "                    plot=False, save=True, weighting=True, debug=False):\n",
    "    #extract data of country\n",
    "    cases_np = np.array(cases.loc[country])\n",
    "    deaths_np = np.array(deaths.loc[country])\n",
    "\n",
    "    #fit both deaths and cases\n",
    "    #s_i is the start index of the fitting\n",
    "    #we reduce therefore the weight of the flat curve and consider more\n",
    "    #recently added values\n",
    "    #sometimes fitting fails\n",
    "    try:\n",
    "        s_i_c = find_start(cases_np)\n",
    "        s_i_d = find_start(deaths_np)\n",
    "\n",
    "        if weighting:\n",
    "            #weight array\n",
    "            sigma = np.log(np.maximum(2*np.ones(cases_np[s_i_c:].shape), cases_np[s_i_c:]))\n",
    "            popt_c, _ = optimize.curve_fit(logistic_fit, date_int[s_i_c:], cases_np[s_i_c:],\n",
    "                                           sigma=sigma, absolute_sigma=True, \n",
    "                                           p0=[np.max(cases_np[s_i_c:]), 0.1, 60],  maxfev=1000)\n",
    "            \n",
    "            \n",
    "            #weight array\n",
    "            sigma = np.log(np.maximum(2*np.ones(deaths_np[s_i_d:].shape), deaths_np[s_i_d:]))\n",
    "            popt_d, _ = optimize.curve_fit(logistic_fit, date_int[s_i_d:], deaths_np[s_i_d:],\n",
    "                                           sigma=sigma, absolute_sigma=True,  \n",
    "                                           p0=[np.max(deaths_np[s_i_d:]), 0.1, 60], maxfev=1000)\n",
    "        else:\n",
    "            popt_c, _ = optimize.curve_fit(logistic_fit, date_int[s_i_c:], cases_np[s_i_c:],\n",
    "                                           p0=[np.max(cases_np[s_i_c:]), 0.1, 60], maxfev=1000)\n",
    "            \n",
    "            popt_d, _ = optimize.curve_fit(logistic_fit, date_int[s_i_d:], deaths_np[s_i_d:],\n",
    "                                           p0=[np.max(deaths_np[s_i_d:]), 0.1, 60], maxfev=1000)\n",
    "\n",
    "    except (RuntimeError, TypeError):\n",
    "        return results\n",
    "    \n",
    "    #extract paramters\n",
    "    par0_c = popt_c[0]\n",
    "    par1_c = popt_c[1]\n",
    "    par2_c = popt_c[2]\n",
    "    \n",
    "    par0_d = popt_d[0]\n",
    "    par1_d = popt_d[1]\n",
    "    par2_d = popt_d[2]      \n",
    "        \n",
    "    \n",
    "    #extract meaningful quantities\n",
    "    current_cases = cases_np[-1].astype(np.int)\n",
    "    current_deaths = deaths_np[-1].astype(np.int)\n",
    "    total_cases = np.round(np.max([cases_np[-1], par0_c])).astype(np.int)\n",
    "    inflection_point_cases = (date[0] + dt.timedelta(days=par2_c)).strftime('%m/%d/%y')\n",
    "    inflection_point_deaths = (date[0] + dt.timedelta(days=par2_d)).strftime('%m/%d/%y')\n",
    "    max_new_cases_per_day = np.min([np.round(par0_c * par1_c / 4), \n",
    "                                             total_cases]\n",
    "                                  ).astype(np.int)\n",
    "    \n",
    "    total_deaths = np.round(np.max([deaths_np[-1], \n",
    "                                    np.min([np.abs(par0_d), \n",
    "                                            total_cases])])\n",
    "                           ).astype(np.int)\n",
    "    \n",
    "    r = np.abs(np.round(total_deaths / total_cases * 100, 2))\n",
    "    death_ratio = r if r > 1e-4 else 0\n",
    "    \n",
    "    \n",
    "    \n",
    "    #save to results table only if save == True\n",
    "    if save:\n",
    "        results['Current cases'].loc[country] = current_cases\n",
    "        results['Current deaths'].loc[country] = current_deaths\n",
    "        results['Total cases'].loc[country] = total_cases\n",
    "        results['Inflection point cases'].loc[country] = inflection_point_cases\n",
    "        results['Inflection point deaths'].loc[country] = inflection_point_deaths\n",
    "        results['Max new cases per day'].loc[country] = max_new_cases_per_day\n",
    "        results['Total deaths'].loc[country] = total_deaths\n",
    "        results['Death ratio (%)'].loc[country] = death_ratio\n",
    "    \n",
    "    \n",
    "    #save png only if plot == True\n",
    "    if plot:\n",
    "        plt.figure(figsize=(15, 10))\n",
    "        plt.plot(date, cases_np, '.', markersize=12, zorder=2, label='Data')\n",
    "        if debug:\n",
    "            plt.plot(date[s_i_c:], logistic_fit(date_int[s_i_c:], par0_c, par1_c, par2_c), 'r', linewidth=2.0, zorder=1, label='Fit')\n",
    "        else:\n",
    "            plt.plot(date, logistic_fit(date_int, par0_c, par1_c, par2_c), 'r', linewidth=2.0, zorder=1, label='Fit')\n",
    "\n",
    "        plt.legend(loc=2, fontsize=18)\n",
    "        plt.xticks(fontsize=14)\n",
    "        plt.yticks(fontsize=14)\n",
    "        plt.title('Confirmed cases in ' + country, fontsize=20)    \n",
    "        x_infl = (dt.datetime.strptime(inflection_point_cases,\n",
    "                                      '%m/%d/%y').date())\n",
    "        plt.axvline(x=x_infl, color=\"green\")\n",
    "        plt.savefig('plots/cases_' + country.lower() + '.png', dpi=200)\n",
    "        plt.close()\n",
    "        \n",
    "        plt.figure(figsize=(15, 10))\n",
    "        plt.plot(date, deaths_np, '.', markersize=12, zorder=2, label='Data')\n",
    "        if debug:\n",
    "            plt.plot(date[s_i_d:], logistic_fit(date_int[s_i_d:], par0_d, par1_d, par2_d), 'r', linewidth=2.0, zorder=1, label='Fit')\n",
    "        else:\n",
    "            plt.plot(date, logistic_fit(date_int, par0_d, par1_d, par2_d), 'r', linewidth=2.0, zorder=1, label='Fit')\n",
    "           \n",
    "        plt.legend(loc=2, fontsize=18)\n",
    "        plt.xticks(fontsize=14)\n",
    "        plt.yticks(fontsize=14)\n",
    "        plt.title('Deaths in ' + country, fontsize=20)\n",
    "        x_infl = (dt.datetime.strptime(inflection_point_deaths,\n",
    "                                       '%m/%d/%y').date())\n",
    "        plt.axvline(x=x_infl, color=\"green\")\n",
    "        plt.savefig('plots/deaths_' + country.lower() + '.png', dpi=200)\n",
    "        plt.close()\n",
    "        \n",
    "    return results\n",
    "\n",
    "\n",
    "\n",
    "def calculate_inflection_point(cases, deaths, country, date, date_int, start_day, weighting=True):\n",
    "    inf_points_c = []\n",
    "    inf_points_d = []\n",
    "\n",
    "    for i in range(start_day, len(date)):\n",
    "        date_np = np.array(date)[:i]\n",
    "        date_int_np = np.array(date_int)[:i]\n",
    "        \n",
    "        #extract data of country\n",
    "        cases_np = np.array(cases.loc[country])[:i]\n",
    "        deaths_np = np.array(deaths.loc[country])[:i]\n",
    "        \n",
    "        #fit both deaths and cases\n",
    "        #s_i is the start index of the fitting\n",
    "        #we reduce therefore the weight of the flat curve and consider more\n",
    "        #recently added values\n",
    "        #sometimes fitting fails\n",
    "        try:\n",
    "            if weighting:\n",
    "                s_i = find_start(cases_np)\n",
    "                #weight array\n",
    "                sigma = np.log10(np.maximum(np.ones(cases_np[s_i:].shape), cases_np[s_i:]))\n",
    "                popt_c, _ = optimize.curve_fit(logistic_fit, date_int_np[s_i:], cases_np[s_i:],\n",
    "                                               sigma=sigma, absolute_sigma=True, \n",
    "                                               p0=[100000, 0.1, 60],  maxfev=1000)\n",
    "\n",
    "                s_i = find_start(deaths_np)\n",
    "                #weight array\n",
    "                sigma = np.log10(np.maximum(np.ones(deaths_np[s_i:].shape), deaths_np[s_i:]))\n",
    "                popt_d, _ = optimize.curve_fit(logistic_fit, date_int_np[s_i:], deaths_np[s_i:],\n",
    "                                               sigma=sigma, absolute_sigma=True,  \n",
    "                                               p0=[50000, 0.1, 60], maxfev=1000)\n",
    "            else:\n",
    "                s_i = find_start(cases_np)\n",
    "                popt_c, _ = optimize.curve_fit(logistic_fit, date_int_np[s_i:], cases_np[s_i:],\n",
    "                                               p0=[100000, 0.1, 60], maxfev=1000)\n",
    "\n",
    "                s_i = find_start(deaths_np)\n",
    "                popt_d, _ = optimize.curve_fit(logistic_fit, date_int_np[s_i:], deaths_np[s_i:],\n",
    "                                               p0=[50000, 0.1, 60], maxfev=1000)\n",
    "\n",
    "        except (RuntimeError, TypeError):\n",
    "            continue\n",
    "\n",
    "        \n",
    "        \n",
    "        inflection_point_cases = dt.timedelta(days=popt_c[2])\n",
    "        inflection_point_deaths = dt.timedelta(days=popt_d[2])        \n",
    "        inf_points_c.append(inflection_point_cases.days)\n",
    "        inf_points_d.append(inflection_point_deaths.days)\n",
    "\n",
    "    return inf_points_c, inf_points_d"
   ]
  },
  {
   "cell_type": "code",
   "execution_count": null,
   "metadata": {},
   "outputs": [
    {
     "name": "stderr",
     "output_type": "stream",
     "text": [
      " 91%|█████████ | 164/181 [00:03<00:00, 64.93it/s]"
     ]
    }
   ],
   "source": [
    "#empty results table\n",
    "results = pd.DataFrame(columns=['Current cases', 'Total cases', 'Inflection point cases', 'Max new cases per day',\n",
    "                                'Current deaths', 'Total deaths', \"Inflection point deaths\", 'Death ratio (%)'], \n",
    "                       index=cases.index)\n",
    "\n",
    "#country with plots\n",
    "countries_to_plot = ['Germany', 'US', 'United Kingdom', 'Brazil', \"Austria\", \"France\"]\n",
    "\n",
    "for country in tqdm(cases.index):\n",
    "    plot = country in countries_to_plot\n",
    "    results = analyze_country(cases, deaths, country, results, date, date_int, plot=plot, weighting=True)"
   ]
  },
  {
   "cell_type": "code",
   "execution_count": 38,
   "metadata": {},
   "outputs": [
    {
     "name": "stdout",
     "output_type": "stream",
     "text": [
      "[0.69314718 0.69314718 0.69314718 0.69314718 1.09861229 1.09861229\n",
      " 1.38629436 1.79175947 1.79175947 2.07944154 2.77258872 3.04452244\n",
      " 3.33220451 3.40119738 3.8918203  4.06044301 4.21950771 4.4543473\n",
      " 4.68213123 4.85203026 4.98360662 5.06259503 5.12396398 5.22574667]\n"
     ]
    },
    {
     "data": {
      "text/plain": [
       "1/22/20      0\n",
       "1/23/20      0\n",
       "1/24/20      0\n",
       "1/25/20      0\n",
       "1/26/20      0\n",
       "          ... \n",
       "3/31/20    128\n",
       "4/1/20     146\n",
       "4/2/20     158\n",
       "4/3/20     168\n",
       "4/4/20     186\n",
       "Name: Austria, Length: 74, dtype: int64"
      ]
     },
     "execution_count": 38,
     "metadata": {},
     "output_type": "execute_result"
    }
   ],
   "source": [
    "results = analyze_country(cases, deaths, \"Austria\", results, date, date_int, plot=True, weighting=True)\n",
    "\n",
    "cases.loc[\"Austria\"]\n",
    "deaths.loc[\"Austria\"]"
   ]
  },
  {
   "cell_type": "code",
   "execution_count": 43,
   "metadata": {},
   "outputs": [
    {
     "data": {
      "text/plain": [
       "[<matplotlib.lines.Line2D at 0x7ff03cbfda30>]"
      ]
     },
     "execution_count": 43,
     "metadata": {},
     "output_type": "execute_result"
    },
    {
     "data": {
      "image/png": "[encoded data removed]",
      "text/plain": [
       "<Figure size 432x288 with 1 Axes>"
      ]
     },
     "metadata": {
      "needs_background": "light"
     },
     "output_type": "display_data"
    }
   ],
   "source": [
    "#Experimental feature\n",
    "\n",
    "#it shows how the inflection point changed over time\n",
    "#if the curve is constant this would indicate that our fit is ok\n",
    "\n",
    "inf_points_c, inf_points_d = calculate_inflection_point(cases, deaths, \"Austria\", date, date_int, 50)\n",
    "plt.plot(inf_points_c)\n",
    "plt.plot(inf_points_d)"
   ]
  },
  {
   "cell_type": "markdown",
   "metadata": {},
   "source": [
    "## Save results"
   ]
  },
  {
   "cell_type": "code",
   "execution_count": 41,
   "metadata": {},
   "outputs": [],
   "source": [
    "results_sorted = results.sort_values(by='Current cases', ascending=False)\n",
    "results_sorted.to_csv(r'logistic-results.csv')"
   ]
  },
  {
   "cell_type": "code",
   "execution_count": null,
   "metadata": {},
   "outputs": [],
   "source": []
  }
 ],
 "metadata": {
  "kernelspec": {
   "display_name": "Python 3",
   "language": "python",
   "name": "python3"
  },
  "language_info": {
   "codemirror_mode": {
    "name": "ipython",
    "version": 3
   },
   "file_extension": ".py",
   "mimetype": "text/x-python",
   "name": "python",
   "nbconvert_exporter": "python",
   "pygments_lexer": "ipython3",
   "version": "3.8.2"
  }
 },
 "nbformat": 4,
 "nbformat_minor": 4
}
