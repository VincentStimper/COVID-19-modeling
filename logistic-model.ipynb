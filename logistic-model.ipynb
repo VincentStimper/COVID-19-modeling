{
 "cells": [
  {
   "cell_type": "markdown",
   "metadata": {},
   "source": [
    "# Logistic modeling of the spread of COVID-19"
   ]
  },
  {
   "cell_type": "code",
   "execution_count": null,
   "metadata": {},
   "outputs": [],
   "source": [
    "# Import packages\n",
    "import pandas as pd\n",
    "import datetime as dt\n",
    "\n",
    "import numpy as np\n",
    "from scipy import optimize\n",
    "\n",
    "from matplotlib import pyplot as plt\n",
    "\n",
    "from tqdm import tqdm"
   ]
  },
  {
   "cell_type": "markdown",
   "metadata": {},
   "source": [
    "## Preprocessing"
   ]
  },
  {
   "cell_type": "code",
   "execution_count": null,
   "metadata": {},
   "outputs": [],
   "source": [
    "# Load data\n",
    "# Data retrieved from https://github.com/CSSEGISandData/COVID-19\n",
    "cases = pd.read_csv('https://raw.githubusercontent.com/CSSEGISandData/COVID-19/master/csse_covid_19_data/csse_covid_19_time_series/time_series_19-covid-Confirmed.csv')\n",
    "recovered = pd.read_csv('https://raw.githubusercontent.com/CSSEGISandData/COVID-19/master/csse_covid_19_data/csse_covid_19_time_series/time_series_19-covid-Recovered.csv')\n",
    "deaths = pd.read_csv('https://raw.githubusercontent.com/CSSEGISandData/COVID-19/master/csse_covid_19_data/csse_covid_19_time_series/time_series_19-covid-Deaths.csv')"
   ]
  },
  {
   "cell_type": "code",
   "execution_count": null,
   "metadata": {},
   "outputs": [],
   "source": [
    "# Drop US counties\n",
    "ind_to_drop = cases['Province/State'].dropna().index[cases['Province/State'].dropna().str.contains(pat=', ')]\n",
    "cases = cases.drop(ind_to_drop)\n",
    "recovered = recovered.drop(ind_to_drop)\n",
    "deaths = deaths.drop(ind_to_drop)"
   ]
  },
  {
   "cell_type": "code",
   "execution_count": null,
   "metadata": {},
   "outputs": [],
   "source": [
    "# Delete province and location\n",
    "cases = cases.drop(columns=['Province/State', 'Lat', 'Long'])\n",
    "recovered = recovered.drop(columns=['Province/State', 'Lat', 'Long'])\n",
    "deaths = deaths.drop(columns=['Province/State', 'Lat', 'Long'])"
   ]
  },
  {
   "cell_type": "code",
   "execution_count": null,
   "metadata": {},
   "outputs": [],
   "source": [
    "# Group by country\n",
    "cases = cases.groupby('Country/Region').sum()\n",
    "recovered = recovered.groupby('Country/Region').sum()\n",
    "deaths = deaths.groupby('Country/Region').sum()"
   ]
  },
  {
   "cell_type": "markdown",
   "metadata": {},
   "source": [
    "## Regression"
   ]
  },
  {
   "cell_type": "code",
   "execution_count": null,
   "metadata": {},
   "outputs": [],
   "source": [
    "results = pd.DataFrame(columns=['Current cases', 'Total cases', 'Inflection point', 'Max new cases per day',\n",
    "                                'Current deaths', 'Total deaths', 'Death ratio (%)'], \n",
    "                       index=cases.index)\n",
    "\n",
    "for ind in tqdm(cases.index):\n",
    "    s = cases.loc[ind]\n",
    "    date = [dt.datetime.strptime(ind, '%m/%d/%y').date() for ind in s.index]\n",
    "    date_int = np.array([(d - date[0]).days for d in date])\n",
    "    cases_np = np.array(s)\n",
    "    deaths_np = np.array(deaths.loc[ind])\n",
    "\n",
    "    def logistic_fit(w, t, y):\n",
    "        return w[0] / (1 + np.exp(-w[1] * (t - w[2]))) - y\n",
    "    def logistic(w, t):\n",
    "        return w[0] / (1 + np.exp(-w[1] * (t - w[2])))\n",
    "\n",
    "    opt_cases = optimize.least_squares(logistic_fit, [100000, 0.1, 20], args=(date_int, cases_np))\n",
    "    opt_deaths = optimize.least_squares(logistic_fit, [1000, 0.1, 20], args=(date_int, deaths_np))\n",
    "    \n",
    "    results['Current cases'].loc[ind] = cases_np[-1]\n",
    "    results['Current deaths'].loc[ind] = deaths_np[-1]\n",
    "    results['Total cases'].loc[ind] = np.round(opt_cases.x[0]).astype(np.int)\n",
    "    results['Inflection point'].loc[ind] = (date[0] + dt.timedelta(days=opt_cases.x[2])).strftime('%m/%d/%y')\n",
    "    results['Max new cases per day'].loc[ind] = np.round(opt_cases.x[0] * opt_cases.x[1] / 4).astype(np.int)\n",
    "    results['Total deaths'].loc[ind] = np.abs(np.round(opt_deaths.x[0])).astype(np.int)\n",
    "    r = np.abs(np.round(opt_deaths.x[0] / opt_cases.x[0] * 100, 2))\n",
    "    results['Death ratio (%)'].loc[ind] = r if r > 1e-4 else 0\n",
    "\n",
    "results_sorted = results.sort_values(by='Current cases', ascending=False)"
   ]
  },
  {
   "cell_type": "markdown",
   "metadata": {},
   "source": [
    "## Save results"
   ]
  },
  {
   "cell_type": "code",
   "execution_count": null,
   "metadata": {},
   "outputs": [],
   "source": [
    "results_sorted.to_csv(r'logistic-results.csv')"
   ]
  }
 ],
 "metadata": {
  "kernelspec": {
   "display_name": "Python 3",
   "language": "python",
   "name": "python3"
  },
  "language_info": {
   "codemirror_mode": {
    "name": "ipython",
    "version": 3
   },
   "file_extension": ".py",
   "mimetype": "text/x-python",
   "name": "python",
   "nbconvert_exporter": "python",
   "pygments_lexer": "ipython3",
   "version": "3.7.6"
  }
 },
 "nbformat": 4,
 "nbformat_minor": 4
}
