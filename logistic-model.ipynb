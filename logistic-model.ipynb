{
 "cells": [
  {
   "cell_type": "markdown",
   "metadata": {},
   "source": [
    "# Logistic modeling of the spread of COVID-19"
   ]
  },
  {
   "cell_type": "code",
   "execution_count": 1,
   "metadata": {},
   "outputs": [],
   "source": [
    "# Import packages\n",
    "import pandas as pd\n",
    "import datetime as dt\n",
    "\n",
    "import numpy as np\n",
    "from scipy import optimize\n",
    "\n",
    "from matplotlib import pyplot as plt\n",
    "\n",
    "from tqdm import tqdm"
   ]
  },
  {
   "cell_type": "markdown",
   "metadata": {},
   "source": [
    "## Preprocessing"
   ]
  },
  {
   "cell_type": "code",
   "execution_count": 2,
   "metadata": {},
   "outputs": [],
   "source": [
    "# Load data\n",
    "# Data retrieved from https://github.com/CSSEGISandData/COVID-19\n",
    "cases = pd.read_csv('https://raw.githubusercontent.com/CSSEGISandData/COVID-19/master/csse_covid_19_data/csse_covid_19_time_series/time_series_covid19_confirmed_global.csv')\n",
    "deaths = pd.read_csv('https://raw.githubusercontent.com/CSSEGISandData/COVID-19/master/csse_covid_19_data/csse_covid_19_time_series/time_series_covid19_deaths_global.csv')"
   ]
  },
  {
   "cell_type": "code",
   "execution_count": 3,
   "metadata": {},
   "outputs": [],
   "source": [
    "# Delete province and location\n",
    "cases = cases.drop(columns=['Province/State', 'Lat', 'Long'])\n",
    "deaths = deaths.drop(columns=['Province/State', 'Lat', 'Long'])"
   ]
  },
  {
   "cell_type": "code",
   "execution_count": 4,
   "metadata": {},
   "outputs": [],
   "source": [
    "# Group by country\n",
    "cases = cases.groupby('Country/Region').sum()\n",
    "deaths = deaths.groupby('Country/Region').sum()"
   ]
  },
  {
   "cell_type": "markdown",
   "metadata": {},
   "source": [
    "## Regression"
   ]
  },
  {
   "cell_type": "code",
   "execution_count": null,
   "metadata": {
    "scrolled": false
   },
   "outputs": [
    {
     "name": "stderr",
     "output_type": "stream",
     "text": [
      "  2%|▏         | 3/181 [00:00<00:17, 10.31it/s]<ipython-input-5-08165d130329>:8: RuntimeWarning: overflow encountered in exp\n",
      "  return w[0] / (1 + np.exp(-w[1] * (t - w[2]))) - y\n",
      " 64%|██████▎   | 115/181 [00:05<00:02, 22.03it/s]"
     ]
    }
   ],
   "source": [
    "results = pd.DataFrame(columns=['Current cases', 'Total cases', 'Inflection point cases', 'Max new cases per day',\n",
    "                                'Current deaths', 'Total deaths', \"Inflection point deaths\", 'Death ratio (%)'], \n",
    "                       index=cases.index)\n",
    "\n",
    "countries_to_plot = ['Germany', 'US', 'United Kingdom', 'Brazil']\n",
    "\n",
    "def logistic_fit(w, t, y):\n",
    "    return w[0] / (1 + np.exp(-w[1] * (t - w[2]))) - y\n",
    "def logistic(w, t):\n",
    "    return w[0] / (1 + np.exp(-w[1] * (t - w[2])))\n",
    "\n",
    "for ind in tqdm(cases.index):\n",
    "    s = cases.loc[ind]\n",
    "    date = [dt.datetime.strptime(ind, '%m/%d/%y').date() for ind in s.index]\n",
    "    date_int = np.array([(d - date[0]).days for d in date])\n",
    "    cases_np = np.array(s)\n",
    "    deaths_np = np.array(deaths.loc[ind])\n",
    "\n",
    "    opt_cases = optimize.least_squares(logistic_fit, [100000, 0.1, 60], args=(date_int, cases_np))\n",
    "    opt_deaths = optimize.least_squares(logistic_fit, [10000, 0.1, 70], args=(date_int, deaths_np))\n",
    "    \n",
    "    results['Current cases'].loc[ind] = cases_np[-1].astype(np.int)\n",
    "    results['Current deaths'].loc[ind] = deaths_np[-1].astype(np.int)\n",
    "    results['Total cases'].loc[ind] = np.round(np.max([cases_np[-1], opt_cases.x[0]])).astype(np.int)\n",
    "    results['Inflection point cases'].loc[ind] = (date[0] + dt.timedelta(days=opt_cases.x[2])).strftime('%m/%d/%y')\n",
    "    results['Inflection point deaths'].loc[ind] = (date[0] + dt.timedelta(days=opt_deaths.x[2])).strftime('%m/%d/%y')\n",
    "\n",
    "    results['Max new cases per day'].loc[ind] = np.min([np.round(opt_cases.x[0] * opt_cases.x[1] / 4), \n",
    "                                                        results['Total cases'].loc[ind]]).astype(np.int)\n",
    "    results['Total deaths'].loc[ind] = np.round(np.max([deaths_np[-1], np.min([np.abs(opt_deaths.x[0]), \n",
    "                                                                               results['Total cases'].loc[ind]])])).astype(np.int)\n",
    "    r = np.abs(np.round(results['Total deaths'].loc[ind] / results['Total cases'].loc[ind] * 100, 2))\n",
    "    results['Death ratio (%)'].loc[ind] = r if r > 1e-4 else 0\n",
    "    \n",
    "    if ind in countries_to_plot:\n",
    "        plt.figure(figsize=(15, 10))\n",
    "        plt.plot(date, cases_np, '.', markersize=12, zorder=2, label='Data')\n",
    "        plt.plot(date, logistic(opt_cases.x, date_int), 'r', linewidth=2.0, zorder=1, label='Fit')\n",
    "        plt.legend(loc=2, fontsize=18)\n",
    "        plt.xticks(fontsize=14)\n",
    "        plt.yticks(fontsize=14)\n",
    "        plt.title('Confirmed cases in ' + ind, fontsize=20)    \n",
    "        x_infl = (dt.datetime.strptime(results['Inflection point cases'].loc[ind],\n",
    "                                      '%m/%d/%y').date())\n",
    "        plt.axvline(x=x_infl, color=\"green\")\n",
    "        plt.savefig('plots/cases_' + ind.lower() + '.png', dpi=200)\n",
    "        plt.close()\n",
    "        \n",
    "        plt.figure(figsize=(15, 10))\n",
    "        plt.plot(date, deaths_np, '.', markersize=12, zorder=2, label='Data')\n",
    "        plt.plot(date, logistic(opt_deaths.x, date_int), 'r', linewidth=2.0, zorder=1, label='Fit')\n",
    "        plt.legend(loc=2, fontsize=18)\n",
    "        plt.xticks(fontsize=14)\n",
    "        plt.yticks(fontsize=14)\n",
    "        plt.title('Deaths in ' + ind, fontsize=20)\n",
    "        x_infl = (dt.datetime.strptime(results['Inflection point deaths'].loc[ind],\n",
    "                                       '%m/%d/%y').date())\n",
    "        plt.axvline(x=x_infl, color=\"green\")\n",
    "        plt.savefig('plots/deaths_' + ind.lower() + '.png', dpi=200)\n",
    "        plt.close()\n",
    "\n",
    "results_sorted = results.sort_values(by='Current cases', ascending=False)"
   ]
  },
  {
   "cell_type": "markdown",
   "metadata": {},
   "source": [
    "## Save results"
   ]
  },
  {
   "cell_type": "code",
   "execution_count": null,
   "metadata": {},
   "outputs": [],
   "source": [
    "results_sorted.to_csv(r'logistic-results.csv')"
   ]
  },
  {
   "cell_type": "code",
   "execution_count": null,
   "metadata": {},
   "outputs": [],
   "source": []
  }
 ],
 "metadata": {
  "kernelspec": {
   "display_name": "Python 3",
   "language": "python",
   "name": "python3"
  },
  "language_info": {
   "codemirror_mode": {
    "name": "ipython",
    "version": 3
   },
   "file_extension": ".py",
   "mimetype": "text/x-python",
   "name": "python",
   "nbconvert_exporter": "python",
   "pygments_lexer": "ipython3",
   "version": "3.8.2"
  }
 },
 "nbformat": 4,
 "nbformat_minor": 4
}
